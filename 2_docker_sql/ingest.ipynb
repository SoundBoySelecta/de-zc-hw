{
 "cells": [
  {
   "cell_type": "markdown",
   "id": "c8a8d0f4-df35-47ba-99c0-eb7033ec117d",
   "metadata": {},
   "source": [
    "<hr/>"
   ]
  },
  {
   "cell_type": "markdown",
   "id": "40bf48c5-c591-441d-80b7-3fbece9047d4",
   "metadata": {},
   "source": [
    "j) Import needed libraries"
   ]
  },
  {
   "cell_type": "code",
   "execution_count": 57,
   "id": "b1c0cc09-538b-4fb5-81f8-20454eb1eecc",
   "metadata": {},
   "outputs": [],
   "source": [
    "import pandas as pd\n",
    "import os\n",
    "import sqlalchemy"
   ]
  },
  {
   "cell_type": "markdown",
   "id": "a593fe76-8347-4236-af46-36576702414a",
   "metadata": {},
   "source": [
    "<hr/>"
   ]
  },
  {
   "cell_type": "markdown",
   "id": "384742be-73ec-40b5-8182-e6ef9355fbc6",
   "metadata": {},
   "source": [
    "k) Set data directory"
   ]
  },
  {
   "cell_type": "code",
   "execution_count": 7,
   "id": "b136256d-abec-4a3b-8081-6c7d9f7dd464",
   "metadata": {},
   "outputs": [],
   "source": [
    "data_dir = 'data/'"
   ]
  },
  {
   "cell_type": "markdown",
   "id": "5932668c-246a-457a-97b0-668335e66417",
   "metadata": {},
   "source": [
    "<hr/>"
   ]
  },
  {
   "cell_type": "markdown",
   "id": "b3896313-3851-446d-b5f2-59c282c8aef1",
   "metadata": {},
   "source": [
    "Set trip and zone data files"
   ]
  },
  {
   "cell_type": "code",
   "execution_count": 8,
   "id": "2f35b2ef-6fa8-4e53-b2d2-b52531e4fa33",
   "metadata": {},
   "outputs": [],
   "source": [
    "trip_data = 'green_tripdata_2019-09.csv'"
   ]
  },
  {
   "cell_type": "code",
   "execution_count": 9,
   "id": "529ff789-6bab-47ae-a7f3-1faa006c63c6",
   "metadata": {},
   "outputs": [],
   "source": [
    "zone_data = 'taxi+_zone_lookup.csv'"
   ]
  },
  {
   "cell_type": "markdown",
   "id": "07338068-eb7c-4a1b-8e51-e12a70fe5099",
   "metadata": {},
   "source": [
    "<hr/>"
   ]
  },
  {
   "cell_type": "markdown",
   "id": "11bdfd85-2a0e-4715-8149-50a9c584cfbc",
   "metadata": {},
   "source": [
    "l) Import zone data into pandas (chunks not needed not a large file)"
   ]
  },
  {
   "cell_type": "code",
   "execution_count": 14,
   "id": "167036fa-f6bf-4f52-8fcf-336b5a1b5941",
   "metadata": {},
   "outputs": [],
   "source": [
    "df_zone_data = pd.read_csv(filepath_or_buffer=data_dir+zone_data)"
   ]
  },
  {
   "cell_type": "markdown",
   "id": "cc286dcf-a224-4bd5-be81-dcb0ee23cdd5",
   "metadata": {},
   "source": [
    "View zone df shape"
   ]
  },
  {
   "cell_type": "code",
   "execution_count": 16,
   "id": "eb8729d6-d929-43c9-b912-db1219b47083",
   "metadata": {},
   "outputs": [
    {
     "data": {
      "text/plain": [
       "(265, 4)"
      ]
     },
     "execution_count": 16,
     "metadata": {},
     "output_type": "execute_result"
    }
   ],
   "source": [
    "df_zone_data.shape"
   ]
  },
  {
   "cell_type": "markdown",
   "id": "b9d06404-ab20-4040-ae3d-fa4ed52766af",
   "metadata": {},
   "source": [
    "Import trip data into pandas (chunks needed since large file, more to simulate batch processing as 400k is managable)"
   ]
  },
  {
   "cell_type": "markdown",
   "id": "70ad6f84-e0af-4bfe-8a98-5884c13011b8",
   "metadata": {},
   "source": [
    "create a column list and remove 100% null value columns (ehail_fee)"
   ]
  },
  {
   "cell_type": "code",
   "execution_count": 39,
   "id": "d7815e0b-9225-4400-914d-7f50973a6638",
   "metadata": {},
   "outputs": [],
   "source": [
    "keep_cols= ['VendorID',\n",
    " 'lpep_pickup_datetime',\n",
    " 'lpep_dropoff_datetime',\n",
    " 'store_and_fwd_flag',\n",
    " 'RatecodeID',\n",
    " 'PULocationID',\n",
    " 'DOLocationID',\n",
    " 'passenger_count',\n",
    " 'trip_distance',\n",
    " 'fare_amount',\n",
    " 'extra',\n",
    " 'mta_tax',\n",
    " 'tip_amount',\n",
    " 'tolls_amount',\n",
    " 'improvement_surcharge',\n",
    " 'total_amount',\n",
    " 'payment_type',\n",
    " 'trip_type',\n",
    " 'congestion_surcharge']"
   ]
  },
  {
   "cell_type": "markdown",
   "id": "44dd2c05-8c5e-4d1f-a8ad-02e552b43290",
   "metadata": {},
   "source": [
    "Create iterable"
   ]
  },
  {
   "cell_type": "code",
   "execution_count": 40,
   "id": "990f86d2-c9d7-4d8d-8d12-d397cd8b6cc7",
   "metadata": {},
   "outputs": [],
   "source": [
    "trip_data_iterable_in_100k_chunks = pd.read_csv(filepath_or_buffer=data_dir+trip_data, iterator=True, chunksize=100000, parse_dates=['lpep_pickup_datetime', 'lpep_dropoff_datetime'], usecols=keep_cols)"
   ]
  },
  {
   "cell_type": "markdown",
   "id": "bccdfc94-f56b-4946-8974-331eddeeeb3f",
   "metadata": {},
   "source": [
    "Iterate over the first 100K rows"
   ]
  },
  {
   "cell_type": "code",
   "execution_count": 47,
   "id": "961071d7-4fb3-4dbe-974f-569ebc1356a8",
   "metadata": {},
   "outputs": [],
   "source": [
    "df_trip_data_in_100k_chunks = next(trip_data_iterable_in_100k_chunks)"
   ]
  },
  {
   "cell_type": "markdown",
   "id": "21d3833a-1f33-4484-99fc-571bb743967a",
   "metadata": {},
   "source": [
    "Verify shape"
   ]
  },
  {
   "cell_type": "code",
   "execution_count": 49,
   "id": "34f710ae-6c80-4613-a768-a289407326c4",
   "metadata": {},
   "outputs": [
    {
     "data": {
      "text/plain": [
       "(100000, 19)"
      ]
     },
     "execution_count": 49,
     "metadata": {},
     "output_type": "execute_result"
    }
   ],
   "source": [
    "df_trip_data_in_100k_chunks.shape"
   ]
  },
  {
   "cell_type": "markdown",
   "id": "3960ae5a-7d26-464d-aaa9-b175d4710053",
   "metadata": {},
   "source": [
    "<hr/>"
   ]
  },
  {
   "cell_type": "markdown",
   "id": "bd13d91c-836e-4516-8933-0742250d0925",
   "metadata": {},
   "source": [
    "m) Create a schema from dataframe and name it \"ny_green_taxi\" database"
   ]
  },
  {
   "cell_type": "code",
   "execution_count": 52,
   "id": "a37fa61e-9f7e-4b38-82d9-033ab48d1a7e",
   "metadata": {},
   "outputs": [
    {
     "name": "stdout",
     "output_type": "stream",
     "text": [
      "CREATE TABLE \"ny_green_taxi\" (\n",
      "\"VendorID\" INTEGER,\n",
      "  \"lpep_pickup_datetime\" TIMESTAMP,\n",
      "  \"lpep_dropoff_datetime\" TIMESTAMP,\n",
      "  \"store_and_fwd_flag\" TEXT,\n",
      "  \"RatecodeID\" INTEGER,\n",
      "  \"PULocationID\" INTEGER,\n",
      "  \"DOLocationID\" INTEGER,\n",
      "  \"passenger_count\" INTEGER,\n",
      "  \"trip_distance\" REAL,\n",
      "  \"fare_amount\" REAL,\n",
      "  \"extra\" REAL,\n",
      "  \"mta_tax\" REAL,\n",
      "  \"tip_amount\" REAL,\n",
      "  \"tolls_amount\" REAL,\n",
      "  \"improvement_surcharge\" REAL,\n",
      "  \"total_amount\" REAL,\n",
      "  \"payment_type\" INTEGER,\n",
      "  \"trip_type\" INTEGER,\n",
      "  \"congestion_surcharge\" REAL\n",
      ")\n"
     ]
    }
   ],
   "source": [
    "print(pd.io.sql.get_schema(df_trip_data_in_100k_chunks, name=\"ny_green_taxi\"))"
   ]
  },
  {
   "cell_type": "code",
   "execution_count": null,
   "id": "2c171d1f-8f2f-4209-bece-deddf09c03f0",
   "metadata": {},
   "outputs": [],
   "source": []
  }
 ],
 "metadata": {
  "kernelspec": {
   "display_name": "Python (venv)",
   "language": "python",
   "name": "venv"
  },
  "language_info": {
   "codemirror_mode": {
    "name": "ipython",
    "version": 3
   },
   "file_extension": ".py",
   "mimetype": "text/x-python",
   "name": "python",
   "nbconvert_exporter": "python",
   "pygments_lexer": "ipython3",
   "version": "3.11.7"
  }
 },
 "nbformat": 4,
 "nbformat_minor": 5
}
